{
 "cells": [
  {
   "cell_type": "code",
   "execution_count": null,
   "metadata": {},
   "outputs": [],
   "source": [
    "from redditio import redditio\n",
    "from database import db\n",
    "from modelGPT import modelTextCausalLM as gpt"
   ]
  },
  {
   "cell_type": "code",
   "execution_count": null,
   "metadata": {},
   "outputs": [],
   "source": [
    "model = gpt.ModelTextCausalLM()\n",
    "database = db.CustomDB('database/db.sqlite3', 'reddit', '(id INTEGER AUTO INCREMENT, status INTEGER NOT NULL DEFAULT 1, body TEXT, generated_text TEXT, created_utc INTEGER, url TEXT, PRIMARY KEY (id))')"
   ]
  },
  {
   "cell_type": "code",
   "execution_count": null,
   "metadata": {},
   "outputs": [],
   "source": [
    "#PRAW CONFIG\n",
    "client_id = 'client_id'\n",
    "client_secret = 'client_secret'\n",
    "user_agent = 'user_agent'\n",
    "username = 'username'\n",
    "password = 'password'\n",
    "\n",
    "#BOT CONFIG\n",
    "subreddit = 'subsimgpt2interactive'"
   ]
  }
 ],
 "metadata": {
  "interpreter": {
   "hash": "e7370f93d1d0cde622a1f8e1c04877d8463912d04d973331ad4851f04de6915a"
  },
  "kernelspec": {
   "display_name": "Python 3.10.4 64-bit",
   "language": "python",
   "name": "python3"
  },
  "language_info": {
   "name": "python",
   "version": "3.10.4"
  },
  "orig_nbformat": 4
 },
 "nbformat": 4,
 "nbformat_minor": 2
}
