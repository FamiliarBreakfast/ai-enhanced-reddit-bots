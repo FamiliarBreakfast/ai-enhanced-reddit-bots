{
 "cells": [
  {
   "cell_type": "code",
   "execution_count": null,
   "metadata": {},
   "outputs": [],
   "source": [
    "from database import db\n",
    "from modelGPT import modelTextCausalLM as gpt"
   ]
  },
  {
   "cell_type": "code",
   "execution_count": null,
   "metadata": {},
   "outputs": [],
   "source": [
    "model = gpt.ModelTextCausalLM()\n",
    "database = db.CustomDB('database/db.sqlite3', 'reddit', '(id INTEGER AUTO INCREMENT, status INTEGER NOT NULL DEFAULT 1, body TEXT, created_utc INTEGER, num_comments INTEGER, url TEXT, PRIMARY KEY (id))')"
   ]
  },
  {
   "cell_type": "code",
   "execution_count": null,
   "metadata": {},
   "outputs": [],
   "source": []
  }
 ],
 "metadata": {
  "interpreter": {
   "hash": "e7370f93d1d0cde622a1f8e1c04877d8463912d04d973331ad4851f04de6915a"
  },
  "kernelspec": {
   "display_name": "Python 3.10.4 64-bit",
   "language": "python",
   "name": "python3"
  },
  "language_info": {
   "name": "python",
   "version": "3.10.4"
  },
  "orig_nbformat": 4
 },
 "nbformat": 4,
 "nbformat_minor": 2
}
