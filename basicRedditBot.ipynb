{
 "cells": [
  {
   "cell_type": "code",
   "execution_count": null,
   "metadata": {},
   "outputs": [],
   "source": [
    "import praw\n",
    "import random\n",
    "from ModelText import SimpleModelText as lm"
   ]
  },
  {
   "cell_type": "code",
   "execution_count": null,
   "metadata": {},
   "outputs": [],
   "source": [
    "model = lm.ModelTextCausalLM()"
   ]
  },
  {
   "cell_type": "code",
   "execution_count": null,
   "metadata": {},
   "outputs": [],
   "source": [
    "#PRAW CONFIG\n",
    "reddit = praw.Reddit(\n",
    "\tclient_id = '',\n",
    "\tclient_secret = '',\n",
    "\tuser_agent = '',\n",
    "\tusername = '',\n",
    "\tpassword = ''\n",
    ")\n",
    "\n",
    "#BOT CONFIG\n",
    "subreddit = 'subsimgpt2interactive'"
   ]
  },
  {
   "cell_type": "code",
   "execution_count": null,
   "metadata": {},
   "outputs": [],
   "source": [
    "for submission in reddit.subreddit(subreddit).stream.submissions():\n",
    "\tfor comment in submission.comments:\n",
    "\t\t#calculate reply chance or something\n",
    "\t\tif random.random() < 0.5:\n",
    "\t\t\tgeneration = model.generate(comment.body)\n",
    "\t\t\tcomment.reply(model.extract_response(generation))\n",
    "\telse:\n",
    "\t\tcontinue"
   ]
  }
 ],
 "metadata": {
  "interpreter": {
   "hash": "e7370f93d1d0cde622a1f8e1c04877d8463912d04d973331ad4851f04de6915a"
  },
  "kernelspec": {
   "display_name": "Python 3.10.4 64-bit",
   "language": "python",
   "name": "python3"
  },
  "language_info": {
   "codemirror_mode": {
    "name": "ipython",
    "version": 3
   },
   "file_extension": ".py",
   "mimetype": "text/x-python",
   "name": "python",
   "nbconvert_exporter": "python",
   "pygments_lexer": "ipython3",
   "version": "3.10.4"
  },
  "orig_nbformat": 4
 },
 "nbformat": 4,
 "nbformat_minor": 2
}
