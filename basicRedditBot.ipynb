{
 "cells": [
  {
   "cell_type": "code",
   "execution_count": 1,
   "metadata": {},
   "outputs": [],
   "source": [
    "import praw\n",
    "import random\n",
    "from database import db\n",
    "from modelGPT import modelTextCausalLM as gpt"
   ]
  },
  {
   "cell_type": "code",
   "execution_count": 2,
   "metadata": {},
   "outputs": [],
   "source": [
    "model = gpt.ModelTextCausalLM()\n",
    "database = db.BasicDB('database/db.sqlite3', 'reddit', 'url TEXT')"
   ]
  },
  {
   "cell_type": "code",
   "execution_count": 3,
   "metadata": {},
   "outputs": [],
   "source": [
    "#PRAW CONFIG\n",
    "reddit = praw.Reddit(\n",
    "    client_id = 'client_id',\n",
    "    client_secret = 'client_secret',\n",
    "    user_agent = 'user_agent',\n",
    "    username = 'username',\n",
    "    password = 'password'\n",
    ")\n",
    "\n",
    "#BOT CONFIG\n",
    "subreddit = 'subsimgpt2interactive'"
   ]
  },
  {
   "cell_type": "code",
   "execution_count": null,
   "metadata": {},
   "outputs": [],
   "source": [
    "for submission in reddit.subreddit(subreddit).stream.submissions():\n",
    "    if not database.check(reddit, submission.url):\n",
    "        database.stack(reddit, submission.url)\n",
    "        for comment in submission.comments:\n",
    "            database.stack(reddit, comment.id)\n",
    "            #calculate reply chance or something\n",
    "            if random.random() < 0.5:\n",
    "                generation = model.generate(comment.body)\n",
    "                comment.reply(model.extract_response(generation))\n",
    "    else:\n",
    "        continue"
   ]
  }
 ],
 "metadata": {
  "interpreter": {
   "hash": "e7370f93d1d0cde622a1f8e1c04877d8463912d04d973331ad4851f04de6915a"
  },
  "kernelspec": {
   "display_name": "Python 3.10.4 64-bit",
   "language": "python",
   "name": "python3"
  },
  "language_info": {
   "codemirror_mode": {
    "name": "ipython",
    "version": 3
   },
   "file_extension": ".py",
   "mimetype": "text/x-python",
   "name": "python",
   "nbconvert_exporter": "python",
   "pygments_lexer": "ipython3",
   "version": "3.10.4"
  },
  "orig_nbformat": 4
 },
 "nbformat": 4,
 "nbformat_minor": 2
}
